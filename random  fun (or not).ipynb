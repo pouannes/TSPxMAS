{
 "cells": [
  {
   "cell_type": "code",
   "execution_count": 3,
   "metadata": {},
   "outputs": [],
   "source": [
    "import numpy as np, random, math, operator, pandas as pd, matplotlib.pyplot as plt"
   ]
  },
  {
   "cell_type": "code",
   "execution_count": 4,
   "metadata": {},
   "outputs": [],
   "source": [
    "random.seed(42)"
   ]
  },
  {
   "cell_type": "markdown",
   "metadata": {},
   "source": [
    "# Setup"
   ]
  },
  {
   "cell_type": "markdown",
   "metadata": {},
   "source": [
    "La manière dont le code fonctionne:\n",
    "\n",
    "Il y a la classe `City` qui est en gros juste les coordonnées (x,y) de sa position, ainsi qu'une méthode pour avoir la distance.\n",
    "\n",
    "La classe Fitness permet de, étant donné une chemin (une `route`), d'avoir la distance de ce chemin grâce à la méthode `routeDistance`, et la \"Fitness\" de ce chemin par la méthode `routeFitness` (qui est juste l'inverse de la distance).\n",
    "\n",
    "Ensuite chaque agent est constitué d'un ensemble de méthodes qui permettent d'implémenter sa fonction de recherche, comme le Recuit Simulé ou bien l'algo génétique. Ces fonctions sont au final rassemblées dans la fonction `_step` qui fait une étape de l'algorithme, et la fonction `search` qui fait l'ensemble de la recherche. \n",
    "Les paramètres à donner à ces agents, tant à l'initialisation qu'à la recherche par `search`, sont variables selon l'algo utilisé par l'agent.\n",
    "En particulier, un Agent est initializé avec l'information de combien d'appels à `_step` un appel à `search` va occasionner, dans `self.generations`."
   ]
  },
  {
   "cell_type": "code",
   "execution_count": 5,
   "metadata": {},
   "outputs": [],
   "source": [
    "class City:\n",
    "    def __init__(self, x, y):\n",
    "        self.x = x\n",
    "        self.y = y\n",
    "    \n",
    "    def distance(self, city):\n",
    "        xDis = abs(self.x - city.x)\n",
    "        yDis = abs(self.y - city.y)\n",
    "        distance = np.sqrt((xDis ** 2) + (yDis ** 2))\n",
    "        return distance\n",
    "    \n",
    "    def __repr__(self):\n",
    "        return \"(\" + str(self.x) + \",\" + str(self.y) + \")\""
   ]
  },
  {
   "cell_type": "code",
   "execution_count": 6,
   "metadata": {},
   "outputs": [],
   "source": [
    "class Fitness:\n",
    "    def __init__(self, route):\n",
    "        self.route = route\n",
    "        self.distance = 0\n",
    "        self.fitness= 0.0\n",
    "    \n",
    "    def routeDistance(self):\n",
    "        if self.distance ==0:\n",
    "            pathDistance = 0\n",
    "            for i in range(0, len(self.route)):\n",
    "                fromCity = self.route[i]\n",
    "                toCity = None\n",
    "                if i + 1 < len(self.route):\n",
    "                    toCity = self.route[i + 1]\n",
    "                else:\n",
    "                    toCity = self.route[0]\n",
    "                pathDistance += fromCity.distance(toCity)\n",
    "            self.distance = pathDistance\n",
    "        return self.distance\n",
    "    \n",
    "    def routeFitness(self):\n",
    "        if self.fitness == 0:\n",
    "            self.fitness = 1 / float(self.routeDistance())\n",
    "        return self.fitness\n",
    "    \n",
    "    \n"
   ]
  },
  {
   "cell_type": "markdown",
   "metadata": {},
   "source": [
    "# Agent superclass"
   ]
  },
  {
   "cell_type": "code",
   "execution_count": 73,
   "metadata": {},
   "outputs": [],
   "source": [
    "class SearchAgent():\n",
    "    \"\"\"\n",
    "    Status:\n",
    "        IDLE: waits\n",
    "        OPTM: optimizing\n",
    "        COMP: best local solution, comparison with other agents\n",
    "        SBS : wait for other agent's solutions: either goes back to OPTM with\n",
    "              one of the other agent's solution, or if best solution found by\n",
    "              this agent goes to IDLE\n",
    "        \n",
    "    \"\"\"\n",
    "    def __init__(self):\n",
    "        self.status = \"IDLE\"\n",
    "        self.route = None\n",
    "        self.routeDistance = None\n",
    "        \n",
    "    def search():\n",
    "        pass\n",
    "    \n",
    "    def update(self, best_other_solu=None):\n",
    "        \n",
    "        if self.status == \"IDLE\":\n",
    "            self.route, self.routeDistance = self.search()\n",
    "            self.status == \"OPTM\"\n",
    "            \n",
    "        elif self.status == \"OPTM\":\n",
    "            route, routeDistance = self.search()\n",
    "            \n",
    "            if (routeDistance > 0.98 * self.routeDistance) and\n",
    "               (routeDistance < 1.02 * self.routeDistance):\n",
    "                    self.status = \"COMP\"\n",
    "                    return self.route\n",
    "                \n",
    "            self.route = route\n",
    "            self.routeDistance = routeDistance\n",
    "    \n",
    "    \n",
    "                \n",
    "            \n",
    "        "
   ]
  },
  {
   "cell_type": "code",
   "execution_count": null,
   "metadata": {},
   "outputs": [],
   "source": []
  },
  {
   "cell_type": "markdown",
   "metadata": {},
   "source": [
    "# GAAGent"
   ]
  },
  {
   "cell_type": "code",
   "execution_count": 74,
   "metadata": {},
   "outputs": [],
   "source": [
    "class GAAgent(SearchAgent):\n",
    "    \"\"\"\n",
    "    Hyperparameters: \n",
    "        intensification: eliteSize\n",
    "        diversification: popSize, mutationRate\n",
    "    \"\"\"\n",
    "    \n",
    "    def __init__(self, popSize, eliteSize, mutationRate, population, generations):\n",
    "        super().__init__()\n",
    "        self.popSize = popSize\n",
    "        self.eliteSize = eliteSize\n",
    "        self.mutationRate = mutationRate\n",
    "        self.population = population\n",
    "        self.generations = generations\n",
    "    \n",
    "    \n",
    "    def createRoute(self, cityList):\n",
    "        return random.sample(cityList, len(cityList))\n",
    "\n",
    "    def initialPopulation(self, popSize, cityList):\n",
    "        return [self.createRoute(cityList) for i in range(popSize)]\n",
    "\n",
    "    def rankRoutes(self, population):\n",
    "        fitnessResults = {i:Fitness(population[i]).routeFitness() for i in range(len(population))}\n",
    "        return sorted(fitnessResults.items(), key = operator.itemgetter(1), reverse = True)\n",
    "\n",
    "    def selection(self, popRanked, eliteSize):\n",
    "        df = pd.DataFrame(np.array(popRanked), columns=[\"Index\",\"Fitness\"])\n",
    "        df['cum_sum'] = df.Fitness.cumsum()\n",
    "        df['cum_perc'] = 100*df.cum_sum/df.Fitness.sum()\n",
    "        \n",
    "        selectionResults = [popRanked[i][0] for i in range(eliteSize)]\n",
    "        for i in range(0, len(popRanked) - eliteSize):\n",
    "            pick = 100*random.random()\n",
    "            for i in range(0, len(popRanked)):\n",
    "                if pick <= df.iat[i,3]:\n",
    "                    selectionResults.append(popRanked[i][0])\n",
    "                    break\n",
    "                    \n",
    "        return selectionResults\n",
    "\n",
    "\n",
    "    def matingPool(self, population, selectionResults):\n",
    "        matingpool = [population[selectionResults[i]] for i in range(len(selectionResults))]\n",
    "        return matingpool\n",
    "\n",
    "\n",
    "    def breed(self, parent1, parent2):\n",
    "        child = []\n",
    "        childP1 = []\n",
    "        childP2 = []\n",
    "\n",
    "        geneA = int(random.random() * len(parent1))\n",
    "        geneB = int(random.random() * len(parent1))\n",
    "\n",
    "        startGene = min(geneA, geneB)\n",
    "        endGene = max(geneA, geneB)\n",
    "\n",
    "        for i in range(startGene, endGene):\n",
    "            childP1.append(parent1[i])\n",
    "\n",
    "        childP2 = [item for item in parent2 if item not in childP1]\n",
    "\n",
    "        child = childP1 + childP2\n",
    "        return child\n",
    "\n",
    "    def breedPopulation(self, matingpool, eliteSize):\n",
    "        children = []\n",
    "        length = len(matingpool) - eliteSize\n",
    "        pool = random.sample(matingpool, len(matingpool))\n",
    "\n",
    "        for i in range(0,eliteSize):\n",
    "            children.append(matingpool[i])\n",
    "\n",
    "        for i in range(0, length):\n",
    "            child = self.breed(pool[i], pool[len(matingpool)-i-1])\n",
    "            children.append(child)\n",
    "        return children\n",
    "\n",
    "\n",
    "    def mutate(self, individual, mutationRate):\n",
    "        for swapped in range(len(individual)):\n",
    "            if(random.random() < mutationRate):\n",
    "                swapWith = int(random.random() * len(individual))\n",
    "\n",
    "                city1 = individual[swapped]\n",
    "                city2 = individual[swapWith]\n",
    "\n",
    "                individual[swapped] = city2\n",
    "                individual[swapWith] = city1\n",
    "        return individual\n",
    "\n",
    "\n",
    "    def mutatePopulation(self, population, mutationRate):\n",
    "        mutatedPop = []\n",
    "\n",
    "        for ind in range(0, len(population)):\n",
    "            mutatedInd = self.mutate(population[ind], mutationRate)\n",
    "            mutatedPop.append(mutatedInd)\n",
    "        return mutatedPop\n",
    "\n",
    "    def _step(self, currentGen, eliteSize, mutationRate):\n",
    "        popRanked = self.rankRoutes(currentGen)\n",
    "        selectionResults = self.selection(popRanked, eliteSize)\n",
    "        matingpool = self.matingPool(currentGen, selectionResults)\n",
    "        children = self.breedPopulation(matingpool, eliteSize)\n",
    "        nextGeneration = self.mutatePopulation(children, mutationRate)\n",
    "        return nextGeneration\n",
    "\n",
    "    def search(self):\n",
    "        \n",
    "        pop = self.initialPopulation(self.popSize, self.population)\n",
    "        for i in range(self.generations):\n",
    "            pop = self._step(pop, self.eliteSize, self.mutationRate)\n",
    "        bestRouteIndex = self.rankRoutes(pop)[0][0]\n",
    "        bestRoute = pop[bestRouteIndex]\n",
    "        \n",
    "        return bestRoute, Fitness(bestRoute).routeDistance()"
   ]
  },
  {
   "cell_type": "code",
   "execution_count": 75,
   "metadata": {},
   "outputs": [],
   "source": [
    "def create_cityList(size=25):\n",
    "    random.seed(42)\n",
    "    return [City(x=int(random.random() * 200), y=int(random.random() * 200)) for i in range(size)]"
   ]
  },
  {
   "cell_type": "code",
   "execution_count": 76,
   "metadata": {},
   "outputs": [],
   "source": [
    "cityList = create_cityList(10)"
   ]
  },
  {
   "cell_type": "code",
   "execution_count": 77,
   "metadata": {},
   "outputs": [
    {
     "data": {
      "text/plain": [
       "[(127,5),\n",
       " (55,44),\n",
       " (147,135),\n",
       " (178,17),\n",
       " (84,5),\n",
       " (43,101),\n",
       " (5,39),\n",
       " (129,108),\n",
       " (44,117),\n",
       " (161,1)]"
      ]
     },
     "execution_count": 77,
     "metadata": {},
     "output_type": "execute_result"
    }
   ],
   "source": [
    "cityList"
   ]
  },
  {
   "cell_type": "code",
   "execution_count": 78,
   "metadata": {},
   "outputs": [],
   "source": [
    "def test_GAA(route, print_route=False):\n",
    "\n",
    "    GAA = GAAgent(popSize=100, eliteSize=20, mutationRate=0.01, population=cityList, generations=200)\n",
    "\n",
    "    chemin, E = GAA.search()\n",
    "    \n",
    "    if print_route: print(route)\n",
    "\n",
    "    print(E)"
   ]
  },
  {
   "cell_type": "code",
   "execution_count": 79,
   "metadata": {},
   "outputs": [
    {
     "name": "stdout",
     "output_type": "stream",
     "text": [
      "[(127,5), (55,44), (147,135), (178,17), (84,5), (43,101), (5,39), (129,108), (44,117), (161,1)]\n",
      "528.1085679727015\n"
     ]
    }
   ],
   "source": [
    "test_GAA(cityList, print_route=True)"
   ]
  },
  {
   "cell_type": "markdown",
   "metadata": {},
   "source": [
    "# RSAGent"
   ]
  },
  {
   "cell_type": "code",
   "execution_count": 89,
   "metadata": {},
   "outputs": [],
   "source": [
    "class RSAgent(SearchAgent):\n",
    "    \"\"\"\n",
    "    Hyperparameters: \n",
    "        t_init, t_min, coeff\n",
    "    \"\"\"\n",
    "    \n",
    "    def __init__(self, route_init, t_init, coeff, generations):\n",
    "        super().__init__()\n",
    "        self.n = len(route_init)\n",
    "        self.route_init = route_init\n",
    "        self.temp = t_init\n",
    "        self.coeff = coeff\n",
    "        self.generations = generations\n",
    "    \n",
    "    def _energy(self, route):\n",
    "        \"\"\"\n",
    "        Compute energy of the route = route distance\n",
    "        \"\"\"\n",
    "    \n",
    "        return Fitness(route).routeDistance()\n",
    "    \n",
    "    def _step(self, route, E):\n",
    "        \"\"\"\n",
    "        Does a step of the RS algorithm\n",
    "        \"\"\"\n",
    "        \n",
    "    \n",
    "        sommet1 = random.randint(0, self.n-1)\n",
    "        sommet2 = random.randint(0, self.n-1)\n",
    "\n",
    "        route_b = route[:]\n",
    "\n",
    "        temporaire = route_b[sommet1]\n",
    "        route_b[sommet1] = route[sommet2]\n",
    "        route_b[sommet2] = temporaire\n",
    "        E_b = self._energy(route_b)\n",
    "\n",
    "        if (E_b < E) or (random.random() < math.exp((E - E_b) / self.temp)):\n",
    "            route = route_b\n",
    "            E = E_b\n",
    "\n",
    "        self.temp *= self.coeff\n",
    "        \n",
    "        return route, E\n",
    "        \n",
    "    \n",
    "    \n",
    "    def search(self):\n",
    "        \"\"\"\n",
    "\n",
    "        \"\"\"\n",
    "        \n",
    "        route = self.route_init\n",
    "        E = self._energy(route)\n",
    "        \n",
    "        for i in range(self.generations):\n",
    "            \n",
    "            route, E = self._step(route, E)\n",
    "            \n",
    "        return route, E\n",
    "        "
   ]
  },
  {
   "cell_type": "code",
   "execution_count": 93,
   "metadata": {},
   "outputs": [],
   "source": [
    "def test_RSA(route, print_route = False):\n",
    "\n",
    "    RSA = RSAgent(route, t_init = 100, coeff = 0.99, generations=500)\n",
    "    \n",
    "    route, E = RSA.search()\n",
    "    \n",
    "    if print_route: print(route)\n",
    "\n",
    "    print(E)"
   ]
  },
  {
   "cell_type": "code",
   "execution_count": 94,
   "metadata": {},
   "outputs": [
    {
     "name": "stdout",
     "output_type": "stream",
     "text": [
      "[(5,39), (55,44), (84,5), (127,5), (161,1), (178,17), (147,135), (129,108), (44,117), (43,101)]\n",
      "528.1085679727016\n"
     ]
    }
   ],
   "source": [
    "test_RSA(cityList, print_route=True)"
   ]
  },
  {
   "cell_type": "markdown",
   "metadata": {},
   "source": [
    "# TabouAgent"
   ]
  },
  {
   "cell_type": "code",
   "execution_count": null,
   "metadata": {},
   "outputs": [],
   "source": [
    "class GAAgent():\n",
    "    \n",
    "    \n",
    "    "
   ]
  },
  {
   "cell_type": "code",
   "execution_count": null,
   "metadata": {},
   "outputs": [],
   "source": []
  },
  {
   "cell_type": "markdown",
   "metadata": {},
   "source": [
    "# WrapUp"
   ]
  },
  {
   "cell_type": "code",
   "execution_count": null,
   "metadata": {},
   "outputs": [],
   "source": []
  },
  {
   "cell_type": "code",
   "execution_count": null,
   "metadata": {},
   "outputs": [],
   "source": []
  },
  {
   "cell_type": "code",
   "execution_count": null,
   "metadata": {},
   "outputs": [],
   "source": []
  },
  {
   "cell_type": "code",
   "execution_count": null,
   "metadata": {},
   "outputs": [],
   "source": []
  },
  {
   "cell_type": "code",
   "execution_count": null,
   "metadata": {},
   "outputs": [],
   "source": []
  },
  {
   "cell_type": "code",
   "execution_count": null,
   "metadata": {},
   "outputs": [],
   "source": []
  },
  {
   "cell_type": "code",
   "execution_count": null,
   "metadata": {},
   "outputs": [],
   "source": []
  }
 ],
 "metadata": {
  "kernelspec": {
   "display_name": "Python 3",
   "language": "python",
   "name": "python3"
  },
  "language_info": {
   "codemirror_mode": {
    "name": "ipython",
    "version": 3
   },
   "file_extension": ".py",
   "mimetype": "text/x-python",
   "name": "python",
   "nbconvert_exporter": "python",
   "pygments_lexer": "ipython3",
   "version": "3.7.3"
  },
  "toc": {
   "base_numbering": 1,
   "nav_menu": {},
   "number_sections": true,
   "sideBar": true,
   "skip_h1_title": false,
   "title_cell": "Table of Contents",
   "title_sidebar": "Contents",
   "toc_cell": false,
   "toc_position": {
    "height": "calc(100% - 180px)",
    "left": "10px",
    "top": "150px",
    "width": "165px"
   },
   "toc_section_display": true,
   "toc_window_display": true
  }
 },
 "nbformat": 4,
 "nbformat_minor": 2
}
