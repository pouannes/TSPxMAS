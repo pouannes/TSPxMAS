{
 "cells": [
  {
   "cell_type": "code",
   "execution_count": 1,
   "metadata": {},
   "outputs": [],
   "source": [
    "import numpy as np, random, math, operator, pandas as pd, matplotlib.pyplot as plt\n",
    "import time"
   ]
  },
  {
   "cell_type": "code",
   "execution_count": 2,
   "metadata": {},
   "outputs": [],
   "source": [
    "random.seed(42)"
   ]
  },
  {
   "cell_type": "markdown",
   "metadata": {},
   "source": [
    "# Setup"
   ]
  },
  {
   "cell_type": "markdown",
   "metadata": {},
   "source": [
    "La manière dont le code fonctionne:\n",
    "\n",
    "Il y a la classe `City` qui est en gros juste les coordonnées (x,y) de sa position, ainsi qu'une méthode pour avoir la distance.\n",
    "\n",
    "La classe Fitness permet de, étant donné une chemin (une `route`), d'avoir la distance de ce chemin grâce à la méthode `routeDistance`, et la \"Fitness\" de ce chemin par la méthode `routeFitness` (qui est juste l'inverse de la distance).\n",
    "\n",
    "Ensuite chaque agent est constitué d'un ensemble de méthodes qui permettent d'implémenter sa fonction de recherche, comme le Recuit Simulé ou bien l'algo génétique. Ces fonctions sont au final rassemblées dans la fonction `_step` qui fait une étape de l'algorithme, et la fonction `search` qui fait l'ensemble de la recherche. \n",
    "Les paramètres à donner à ces agents, tant à l'initialisation qu'à la recherche par `search`, sont variables selon l'algo utilisé par l'agent.\n",
    "En particulier, un Agent est initializé avec l'information de combien d'appels à `_step` un appel à `search` va occasionner, dans `self.generations`."
   ]
  },
  {
   "cell_type": "code",
   "execution_count": 3,
   "metadata": {},
   "outputs": [],
   "source": [
    "class City:\n",
    "    def __init__(self, x, y):\n",
    "        self.x = x\n",
    "        self.y = y\n",
    "    \n",
    "    def distance(self, city):\n",
    "        xDis = abs(self.x - city.x)\n",
    "        yDis = abs(self.y - city.y)\n",
    "        distance = np.sqrt((xDis ** 2) + (yDis ** 2))\n",
    "        return distance\n",
    "    \n",
    "    def __repr__(self):\n",
    "        return \"(\" + str(self.x) + \",\" + str(self.y) + \")\""
   ]
  },
  {
   "cell_type": "code",
   "execution_count": 4,
   "metadata": {},
   "outputs": [],
   "source": [
    "class Fitness:\n",
    "    def __init__(self, route):\n",
    "        self.route = route\n",
    "        self.distance = 0\n",
    "        self.fitness= 0.0\n",
    "    \n",
    "    def routeDistance(self):\n",
    "        if self.distance ==0:\n",
    "            pathDistance = 0\n",
    "            for i in range(0, len(self.route)):\n",
    "                fromCity = self.route[i]\n",
    "                toCity = None\n",
    "                if i + 1 < len(self.route):\n",
    "                    toCity = self.route[i + 1]\n",
    "                else:\n",
    "                    toCity = self.route[0]\n",
    "                pathDistance += fromCity.distance(toCity)\n",
    "            self.distance = pathDistance\n",
    "        return self.distance\n",
    "    \n",
    "    def routeFitness(self):\n",
    "        if self.fitness == 0:\n",
    "            self.fitness = 1 / float(self.routeDistance())\n",
    "        return self.fitness\n",
    "    \n",
    "    \n"
   ]
  },
  {
   "cell_type": "markdown",
   "metadata": {},
   "source": [
    "# Agent superclass: Search Agent"
   ]
  },
  {
   "cell_type": "code",
   "execution_count": 5,
   "metadata": {},
   "outputs": [],
   "source": [
    "class SearchAgent():\n",
    "    \"\"\"\n",
    "    Implements the `update` method common to all search agents. \n",
    "    What this method does is, according to the current agent status, decide\n",
    "    what to do. \n",
    "    \n",
    "    Status:\n",
    "        IDLE: waits (firt state, will exit at first update() execution)\n",
    "        OPTM: optimizing (finding a better solution. If stuck in local optima\n",
    "              the agent will go to COMP status and wait for another agent \n",
    "              to find a better optima)\n",
    "        COMP: best local solution, comparison with other agents. Will only\n",
    "              exit if another agent finds a better solution\n",
    "        \n",
    "    \"\"\"\n",
    "    def __init__(self):\n",
    "        self.status = \"IDLE\"\n",
    "        self.route = None\n",
    "        self.routeDistance = None\n",
    "        \n",
    "    def search(self):\n",
    "        pass\n",
    "    \n",
    "    def __repr__(self):\n",
    "        return self.__class__.__name__\n",
    "    \n",
    "    def update(self, best_other_route=None, best_other_routeDistance=None):\n",
    "        \"\"\"\n",
    "        Does an update of the agent, according to its status\n",
    "        \n",
    "        Input:\n",
    "            Either nothing, or\n",
    "            the best current route and its distance\n",
    "        Returns:\n",
    "            Agent's status, current best route, current best distance\n",
    "        \"\"\"\n",
    "        \n",
    "        if self.status == \"IDLE\":\n",
    "            self.route, self.routeDistance = self.search()\n",
    "#             print(f'{self} is at distance {self.routeDistance}')\n",
    "            if best_other_route is not None:\n",
    "                # if another agent found a better route, take that one and \n",
    "                # goes back to optimization\n",
    "                if best_other_routeDistance < self.routeDistance:\n",
    "                    self.route = best_other_route\n",
    "                    self.routeDistance = best_other_routeDistance\n",
    "            self.status = \"OPTM\"\n",
    "            return self.status, self.route, self.routeDistance\n",
    "            \n",
    "        elif self.status == \"OPTM\":\n",
    "#             print(f'{self} is beginning at distance {self.routeDistance}')\n",
    "            route, routeDistance = self.search()\n",
    "#             print(f'{self} best distance found is {routeDistance}')\n",
    "            # if the route distance didn't change much from last udpate() call\n",
    "            if (routeDistance > 0.95 * self.routeDistance) and (routeDistance < 1.05 * self.routeDistance):\n",
    "                    self.status = \"COMP\"\n",
    "                    return self.status, self.route, self.routeDistance\n",
    "            if best_other_route is not None:\n",
    "                # if another agent found a better route, take that one and \n",
    "                # goes back to optimization\n",
    "                if best_other_routeDistance < self.routeDistance:\n",
    "                    self.route = best_other_route\n",
    "                    self.routeDistance = best_other_routeDistance\n",
    "                    self.status = \"OPTM\"\n",
    "                    \n",
    "                    return self.status, self.route, self.routeDistance\n",
    "                \n",
    "            self.route = route\n",
    "            self.routeDistance = routeDistance\n",
    "            return self.status, self.route, self.routeDistance\n",
    "        \n",
    "        elif self.status == \"COMP\":\n",
    "            # if the current best route is provided\n",
    "            if best_other_route is not None:\n",
    "                # if another agent found a better route, take that one and \n",
    "                # goes back to optimization\n",
    "                if best_other_routeDistance < self.routeDistance:\n",
    "                    self.route = best_other_route\n",
    "                    self.routeDistance = best_other_routeDistance\n",
    "                    self.status = \"OPTM\"\n",
    "                    \n",
    "                    return self.status, self.route, self.routeDistance\n",
    "                # else just wait for another agent to improve that solution\n",
    "                else:\n",
    "                    return self.status, self.route, self.routeDistance\n",
    "            # this won't happen after the first iteration of the CoopAgent\n",
    "            else:\n",
    "                return self.status, self.route, self.routeDistance\n",
    "\n",
    "    \n",
    "        \n",
    "            \n",
    "        "
   ]
  },
  {
   "cell_type": "markdown",
   "metadata": {},
   "source": [
    "# GAAGent"
   ]
  },
  {
   "cell_type": "code",
   "execution_count": 6,
   "metadata": {},
   "outputs": [],
   "source": [
    "class GAAgent(SearchAgent):\n",
    "    \"\"\"\n",
    "    Hyperparameters: \n",
    "        intensification: eliteSize\n",
    "        diversification: popSize, mutationRate\n",
    "    \"\"\"\n",
    "    \n",
    "    def __init__(self, popSize, eliteSize, mutationRate, population, generations):\n",
    "        super().__init__()\n",
    "        self.popSize = popSize\n",
    "        self.eliteSize = eliteSize\n",
    "        self.mutationRate = mutationRate\n",
    "        self.population = population\n",
    "        self.generations = generations\n",
    "    \n",
    "    \n",
    "    def createRoute(self, cityList):\n",
    "        return random.sample(cityList, len(cityList))\n",
    "\n",
    "    def initialPopulation(self, popSize, cityList):\n",
    "        return [self.createRoute(cityList) for i in range(popSize)]\n",
    "\n",
    "    def rankRoutes(self, population):\n",
    "        fitnessResults = {i:Fitness(population[i]).routeFitness() for i in range(len(population))}\n",
    "        return sorted(fitnessResults.items(), key = operator.itemgetter(1), reverse = True)\n",
    "\n",
    "    def selection(self, popRanked, eliteSize):\n",
    "        df = pd.DataFrame(np.array(popRanked), columns=[\"Index\",\"Fitness\"])\n",
    "        df['cum_sum'] = df.Fitness.cumsum()\n",
    "        df['cum_perc'] = 100*df.cum_sum/df.Fitness.sum()\n",
    "        \n",
    "        selectionResults = [popRanked[i][0] for i in range(eliteSize)]\n",
    "        for i in range(0, len(popRanked) - eliteSize):\n",
    "            pick = 100*random.random()\n",
    "            for i in range(0, len(popRanked)):\n",
    "                if pick <= df.iat[i,3]:\n",
    "                    selectionResults.append(popRanked[i][0])\n",
    "                    break\n",
    "                    \n",
    "        return selectionResults\n",
    "\n",
    "\n",
    "    def matingPool(self, population, selectionResults):\n",
    "        matingpool = [population[selectionResults[i]] for i in range(len(selectionResults))]\n",
    "        return matingpool\n",
    "\n",
    "\n",
    "    def breed(self, parent1, parent2):\n",
    "        child = []\n",
    "        childP1 = []\n",
    "        childP2 = []\n",
    "\n",
    "        geneA = int(random.random() * len(parent1))\n",
    "        geneB = int(random.random() * len(parent1))\n",
    "\n",
    "        startGene = min(geneA, geneB)\n",
    "        endGene = max(geneA, geneB)\n",
    "\n",
    "        for i in range(startGene, endGene):\n",
    "            childP1.append(parent1[i])\n",
    "\n",
    "        childP2 = [item for item in parent2 if item not in childP1]\n",
    "\n",
    "        child = childP1 + childP2\n",
    "        return child\n",
    "\n",
    "    def breedPopulation(self, matingpool, eliteSize):\n",
    "        children = []\n",
    "        length = len(matingpool) - eliteSize\n",
    "        pool = random.sample(matingpool, len(matingpool))\n",
    "\n",
    "        for i in range(0,eliteSize):\n",
    "            children.append(matingpool[i])\n",
    "\n",
    "        for i in range(0, length):\n",
    "            child = self.breed(pool[i], pool[len(matingpool)-i-1])\n",
    "            children.append(child)\n",
    "        return children\n",
    "\n",
    "\n",
    "    def mutate(self, individual, mutationRate):\n",
    "        for swapped in range(len(individual)):\n",
    "            if(random.random() < mutationRate):\n",
    "                swapWith = int(random.random() * len(individual))\n",
    "\n",
    "                city1 = individual[swapped]\n",
    "                city2 = individual[swapWith]\n",
    "\n",
    "                individual[swapped] = city2\n",
    "                individual[swapWith] = city1\n",
    "        return individual\n",
    "\n",
    "\n",
    "    def mutatePopulation(self, population, mutationRate):\n",
    "        mutatedPop = []\n",
    "\n",
    "        for ind in range(0, len(population)):\n",
    "            mutatedInd = self.mutate(population[ind], mutationRate)\n",
    "            mutatedPop.append(mutatedInd)\n",
    "        return mutatedPop\n",
    "\n",
    "    def _step(self, currentGen, eliteSize, mutationRate):\n",
    "        popRanked = self.rankRoutes(currentGen)\n",
    "        selectionResults = self.selection(popRanked, eliteSize)\n",
    "        matingpool = self.matingPool(currentGen, selectionResults)\n",
    "        children = self.breedPopulation(matingpool, eliteSize)\n",
    "        nextGeneration = self.mutatePopulation(children, mutationRate)\n",
    "        return nextGeneration\n",
    "\n",
    "    def search(self):\n",
    "        \n",
    "        pop = self.initialPopulation(self.popSize, self.population)\n",
    "        for i in range(self.generations):\n",
    "            pop = self._step(pop, self.eliteSize, self.mutationRate)\n",
    "        bestRouteIndex = self.rankRoutes(pop)[0][0]\n",
    "        bestRoute = pop[bestRouteIndex]\n",
    "        \n",
    "        return bestRoute, Fitness(bestRoute).routeDistance()"
   ]
  },
  {
   "cell_type": "markdown",
   "metadata": {},
   "source": [
    "## Create City List"
   ]
  },
  {
   "cell_type": "code",
   "execution_count": 7,
   "metadata": {},
   "outputs": [],
   "source": [
    "def create_cityList(size=25):\n",
    "    random.seed(42)\n",
    "    return [City(x=int(random.random() * 1000), y=int(random.random() * 1000)) for i in range(size)]"
   ]
  },
  {
   "cell_type": "code",
   "execution_count": 36,
   "metadata": {},
   "outputs": [],
   "source": [
    "cityList = create_cityList(100)"
   ]
  },
  {
   "cell_type": "code",
   "execution_count": 37,
   "metadata": {},
   "outputs": [
    {
     "data": {
      "text/plain": [
       "[(639,25),\n",
       " (275,223),\n",
       " (736,676),\n",
       " (892,86),\n",
       " (421,29),\n",
       " (218,505),\n",
       " (26,198),\n",
       " (649,544),\n",
       " (220,589),\n",
       " (809,6),\n",
       " (805,698),\n",
       " (340,155),\n",
       " (957,336),\n",
       " (92,96),\n",
       " (847,603),\n",
       " (807,729),\n",
       " (536,973),\n",
       " (378,552),\n",
       " (829,618),\n",
       " (861,577),\n",
       " (704,45),\n",
       " (227,289),\n",
       " (79,232),\n",
       " (101,277),\n",
       " (635,364),\n",
       " (370,209),\n",
       " (266,936),\n",
       " (648,609),\n",
       " (171,729),\n",
       " (163,379),\n",
       " (989,639),\n",
       " (556,684),\n",
       " (842,775),\n",
       " (229,32),\n",
       " (315,267),\n",
       " (210,942),\n",
       " (876,314),\n",
       " (655,395),\n",
       " (914,458),\n",
       " (264,246),\n",
       " (561,262),\n",
       " (584,897),\n",
       " (399,219),\n",
       " (997,509),\n",
       " (90,47),\n",
       " (109,627),\n",
       " (792,422),\n",
       " (63,381),\n",
       " (996,529),\n",
       " (971,860),\n",
       " (11,720),\n",
       " (681,536),\n",
       " (266,640),\n",
       " (111,434),\n",
       " (453,953),\n",
       " (875,263),\n",
       " (500,178),\n",
       " (912,870),\n",
       " (298,638),\n",
       " (608,152),\n",
       " (762,539),\n",
       " (778,530),\n",
       " (0,324),\n",
       " (19,929),\n",
       " (878,831),\n",
       " (307,57),\n",
       " (878,946),\n",
       " (85,485),\n",
       " (69,760),\n",
       " (765,128),\n",
       " (475,549),\n",
       " (265,872),\n",
       " (423,211),\n",
       " (539,729),\n",
       " (201,311),\n",
       " (995,649),\n",
       " (438,517),\n",
       " (121,224),\n",
       " (338,588),\n",
       " (230,220),\n",
       " (70,631),\n",
       " (228,905),\n",
       " (859,70),\n",
       " (238,668),\n",
       " (214,132),\n",
       " (935,571),\n",
       " (472,784),\n",
       " (807,190),\n",
       " (96,431),\n",
       " (423,467),\n",
       " (729,673),\n",
       " (984,98),\n",
       " (402,339),\n",
       " (861,248),\n",
       " (190,448),\n",
       " (421,278),\n",
       " (249,923),\n",
       " (443,861),\n",
       " (550,50),\n",
       " (999,836)]"
      ]
     },
     "execution_count": 37,
     "metadata": {},
     "output_type": "execute_result"
    }
   ],
   "source": [
    "cityList"
   ]
  },
  {
   "cell_type": "markdown",
   "metadata": {},
   "source": [
    "## Test GA"
   ]
  },
  {
   "cell_type": "code",
   "execution_count": 43,
   "metadata": {},
   "outputs": [],
   "source": [
    "def test_GAA(route, print_route=False):\n",
    "\n",
    "    GAA = GAAgent(popSize=200, eliteSize=20, mutationRate=0.01, population=route, generations=500)\n",
    "\n",
    "    chemin, E = GAA.search()\n",
    "    \n",
    "    if print_route: print(route)\n",
    "\n",
    "    print(E)\n",
    "    return E"
   ]
  },
  {
   "cell_type": "code",
   "execution_count": 39,
   "metadata": {
    "hide_input": false
   },
   "outputs": [
    {
     "name": "stdout",
     "output_type": "stream",
     "text": [
      "[(639,25), (275,223), (736,676), (892,86), (421,29), (218,505), (26,198), (649,544), (220,589), (809,6), (805,698), (340,155), (957,336), (92,96), (847,603), (807,729), (536,973), (378,552), (829,618), (861,577), (704,45), (227,289), (79,232), (101,277), (635,364), (370,209), (266,936), (648,609), (171,729), (163,379), (989,639), (556,684), (842,775), (229,32), (315,267), (210,942), (876,314), (655,395), (914,458), (264,246), (561,262), (584,897), (399,219), (997,509), (90,47), (109,627), (792,422), (63,381), (996,529), (971,860), (11,720), (681,536), (266,640), (111,434), (453,953), (875,263), (500,178), (912,870), (298,638), (608,152), (762,539), (778,530), (0,324), (19,929), (878,831), (307,57), (878,946), (85,485), (69,760), (765,128), (475,549), (265,872), (423,211), (539,729), (201,311), (995,649), (438,517), (121,224), (338,588), (230,220), (70,631), (228,905), (859,70), (238,668), (214,132), (935,571), (472,784), (807,190), (96,431), (423,467), (729,673), (984,98), (402,339), (861,248), (190,448), (421,278), (249,923), (443,861), (550,50), (999,836)]\n",
      "36980.40943018849\n"
     ]
    },
    {
     "data": {
      "text/plain": [
       "36980.40943018849"
      ]
     },
     "execution_count": 39,
     "metadata": {},
     "output_type": "execute_result"
    }
   ],
   "source": [
    "test_GAA(cityList, print_route=True)"
   ]
  },
  {
   "cell_type": "markdown",
   "metadata": {},
   "source": [
    "# RSAGent"
   ]
  },
  {
   "cell_type": "code",
   "execution_count": 12,
   "metadata": {},
   "outputs": [],
   "source": [
    "class RSAgent(SearchAgent):\n",
    "    \"\"\"\n",
    "    Hyperparameters: \n",
    "        t_init, t_min, coeff\n",
    "    \"\"\"\n",
    "    \n",
    "    def __init__(self, route_init, t_init, coeff, generations):\n",
    "        super().__init__()\n",
    "        self.n = len(route_init)\n",
    "        self.route_init = route_init\n",
    "        self.temp = t_init\n",
    "        self.coeff = coeff\n",
    "        self.generations = generations\n",
    "    \n",
    "    def _energy(self, route):\n",
    "        \"\"\"\n",
    "        Compute energy of the route = route distance\n",
    "        \"\"\"\n",
    "    \n",
    "        return Fitness(route).routeDistance()\n",
    "    \n",
    "    def _step(self, route, E):\n",
    "        \"\"\"\n",
    "        Does a step of the RS algorithm\n",
    "        \"\"\"\n",
    "        \n",
    "    \n",
    "        sommet1 = random.randint(0, self.n-1)\n",
    "        sommet2 = random.randint(0, self.n-1)\n",
    "\n",
    "        route_b = route[:]\n",
    "\n",
    "        temporaire = route_b[sommet1]\n",
    "        route_b[sommet1] = route[sommet2]\n",
    "        route_b[sommet2] = temporaire\n",
    "        E_b = self._energy(route_b)\n",
    "\n",
    "        if (E_b < E) or (random.random() < math.exp((E - E_b) / self.temp)):\n",
    "            route = route_b\n",
    "            E = E_b\n",
    "\n",
    "        self.temp *= self.coeff\n",
    "        \n",
    "        return route, E\n",
    "        \n",
    "    \n",
    "    \n",
    "    def search(self):\n",
    "        \"\"\"\n",
    "\n",
    "        \"\"\"\n",
    "        \n",
    "        route = self.route_init\n",
    "        E = self._energy(route)\n",
    "        \n",
    "        for i in range(self.generations):\n",
    "            \n",
    "            route, E = self._step(route, E)\n",
    "            \n",
    "        return route, E\n",
    "        "
   ]
  },
  {
   "cell_type": "markdown",
   "metadata": {},
   "source": [
    "## Test RS"
   ]
  },
  {
   "cell_type": "code",
   "execution_count": 54,
   "metadata": {},
   "outputs": [],
   "source": [
    "def test_RSA(route, print_route = False):\n",
    "\n",
    "    RSA = RSAgent(route, t_init = 100, coeff = 0.9999, generations=10000)\n",
    "    \n",
    "    route, E = RSA.search()\n",
    "    \n",
    "    if print_route: print(route)\n",
    "\n",
    "    print(E)\n",
    "    return E"
   ]
  },
  {
   "cell_type": "code",
   "execution_count": 14,
   "metadata": {},
   "outputs": [
    {
     "name": "stdout",
     "output_type": "stream",
     "text": [
      "[(892,86), (92,96), (26,198), (79,232), (101,277), (227,289), (275,223), (340,155), (704,45), (809,6), (639,25), (421,29), (370,209), (635,364), (649,544), (861,577), (847,603), (829,618), (805,698), (736,676), (648,609), (378,552), (163,379), (218,505), (220,589), (171,729), (266,936), (536,973), (807,729), (957,336)]\n",
      "5892.563641537574\n"
     ]
    },
    {
     "data": {
      "text/plain": [
       "5892.563641537574"
      ]
     },
     "execution_count": 14,
     "metadata": {},
     "output_type": "execute_result"
    }
   ],
   "source": [
    "test_RSA(cityList, print_route=True)"
   ]
  },
  {
   "cell_type": "markdown",
   "metadata": {},
   "source": [
    "# TabouAgent"
   ]
  },
  {
   "cell_type": "code",
   "execution_count": 15,
   "metadata": {},
   "outputs": [],
   "source": [
    "class TAAgent(SearchAgent):\n",
    "    \n",
    "    \n",
    "    def permutation(self,route,i,j): #renvoie le voisin associé à la permutation (i,j) \n",
    "        new_route = route.copy()\n",
    "        (new_route[i],new_route[j])=(new_route[j],new_route[i])\n",
    "        return(new_route)\n",
    "    \n",
    "    def poids (self,route): \n",
    "        return Fitness(route).routeFitness() #on cherche à maximiser le fitness qui est supérieur entre 0 (chemin\n",
    "    #de longueur infinie). C'est notre fonction coût\n",
    "\n",
    "    def __init__(self, route_init , generations):\n",
    "        super().__init__()\n",
    "        self.n = len(route_init)\n",
    "        self.route_init = route_init\n",
    "        self.generations = generations\n",
    "        self.tabou = [(0,0),(1,1)]\n",
    "        self.meilleur_poids_global = 0 #garde en mémoire la meilleure itération jusqu'à maintenant\n",
    "        self.meilleure_route_globale=self.route_init.copy()\n",
    "        \n",
    "    def _step (self, route):\n",
    "        \n",
    "        meilleur_poids_t =0 #ces variables gardent en mémoire le meilleur voisin de la solution considérée à cette étape\n",
    "        meilleure_route_t= []\n",
    "        perm=(0,0) #repère la permutation\n",
    "        \n",
    "        for i in range (self.n):\n",
    "            for j in range(i+1,self.n):\n",
    "                if (i,j) not in self.tabou :\n",
    "                    new_route = self.permutation(route, i,j)\n",
    "                    p = self.poids (new_route)\n",
    "                    if p >= meilleur_poids_t :\n",
    "                        meilleur_poids_t = p\n",
    "                        perm = (i,j)\n",
    "                        meilleure_route_t = new_route\n",
    "                        \n",
    "        self.tabou.append(perm) #maj de l'ago tabou\n",
    "        m = len(self.tabou)\n",
    "        if m >= self.n *(self.n -1) / 2 :\n",
    "            del self.tabou[0] #on se contraint à un nombre maximal de déplacements interdits pour que l'algorithme ne \n",
    "            #se retrouve pas \"coincé\" dans toutes les directions\n",
    "        \n",
    "        if meilleur_poids_t >= self.meilleur_poids_global : #si le voisin trouvé est meilleur que la solution\n",
    "            #en mémoire, on met à jour cette dernière\n",
    "            self.meilleure_route_globale = meilleure_route_t\n",
    "            self.meilleur_poids_global=meilleur_poids_t\n",
    "            self.E = Fitness(self.meilleure_route_globale).routeDistance()\n",
    "        return (meilleure_route_t)\n",
    "    \n",
    "    def search (self):\n",
    "        route = self.route_init\n",
    "        for k in range (self.generations) :\n",
    "            route= self._step(route) #on repart du dernier \"meilleur voisin\" considéré\n",
    "\n",
    "        return self.meilleure_route_globale, Fitness(self.meilleure_route_globale).routeDistance()\n",
    "   \n",
    "                "
   ]
  },
  {
   "cell_type": "markdown",
   "metadata": {},
   "source": [
    "## Test Tabou"
   ]
  },
  {
   "cell_type": "code",
   "execution_count": 81,
   "metadata": {},
   "outputs": [],
   "source": [
    "def test_TAA(route, print_route=False):\n",
    "\n",
    "    TAA = TAAgent(route,generations = 50)\n",
    "\n",
    "    route, E = TAA.search()\n",
    "    \n",
    "    if print_route: print(route)\n",
    "\n",
    "    print(E)\n",
    "    return E"
   ]
  },
  {
   "cell_type": "code",
   "execution_count": 17,
   "metadata": {},
   "outputs": [
    {
     "name": "stdout",
     "output_type": "stream",
     "text": [
      "[(957,336), (892,86), (809,6), (704,45), (639,25), (421,29), (220,589), (171,729), (266,936), (536,973), (807,729), (805,698), (829,618), (847,603), (861,577), (736,676), (648,609), (635,364), (370,209), (340,155), (275,223), (227,289), (101,277), (79,232), (92,96), (26,198), (163,379), (218,505), (378,552), (649,544)]\n",
      "5216.083513325712\n"
     ]
    },
    {
     "data": {
      "text/plain": [
       "5216.083513325712"
      ]
     },
     "execution_count": 17,
     "metadata": {},
     "output_type": "execute_result"
    }
   ],
   "source": [
    "test_TAA(cityList, print_route=True)"
   ]
  },
  {
   "cell_type": "markdown",
   "metadata": {},
   "source": [
    "# CoopAgent"
   ]
  },
  {
   "cell_type": "code",
   "execution_count": 18,
   "metadata": {},
   "outputs": [],
   "source": [
    "class CoopAgent():\n",
    "    \"\"\"\n",
    "    This agent is the one that's creating and coordinating all the other agent\n",
    "    work. \n",
    "    It first create the agents with various parameters, and then goes through\n",
    "    cycles of updates to make the agents cooperate according to their status\n",
    "    \"\"\"\n",
    "    \n",
    "    def __init__(self, agents, nb_cycles):\n",
    "        self.agents = agents\n",
    "        self.nb_cycles = nb_cycles\n",
    "        self.bestRoute = None\n",
    "        self.bestRouteDistance = None\n",
    "    \n",
    "    \n",
    "    def cycle(self, print_cycles=False):\n",
    "        counter = 0\n",
    "        for cycle in range(self.nb_cycles):\n",
    "            if print_cycles: \n",
    "                print(f'Currently at cycle number {cycle}')\n",
    "            for agent in self.agents:\n",
    "\n",
    "                start = time.time()\n",
    "                status, route, distance = agent.update(self.bestRoute, self.bestRouteDistance)\n",
    "                end = time.time()\n",
    "#                 print(f'Time taken by agent {agent} is: {end-start}')\n",
    "                if (not self.bestRouteDistance) or distance < self.bestRouteDistance:\n",
    "                    if print_cycles:\n",
    "                        print('-------------------------------')\n",
    "                        print(f'New best route found by {agent}, with distance {distance}')\n",
    "                        print('-------------------------------')\n",
    "                    self.bestRoute = route\n",
    "                    self.bestRouteDistance = distance\n",
    "                else:\n",
    "                    counter += 1\n",
    "            if counter > len(self.agents)*2:\n",
    "                print(\"No more best route found\")\n",
    "                break\n",
    "                "
   ]
  },
  {
   "cell_type": "markdown",
   "metadata": {},
   "source": [
    "## Test coop"
   ]
  },
  {
   "cell_type": "code",
   "execution_count": 19,
   "metadata": {},
   "outputs": [],
   "source": [
    "def test_CoopA(cityList, intensity=1):\n",
    "    \n",
    "    TAA1 = TAAgent(cityList, generations=20*intensity)\n",
    "    RSA1 = RSAgent(cityList, t_init = 100, coeff = 0.99, generations=500* intensity)    \n",
    "    GAA1 = GAAgent(popSize=50, eliteSize=10, mutationRate=0.03, population=cityList, generations=10*intensity)\n",
    "\n",
    "    agents = [TAA1, RSA1, GAA1]\n",
    "    \n",
    "    CoopA = CoopAgent(agents, 30)\n",
    "    \n",
    "    CoopA.cycle(print_cycles=True)"
   ]
  },
  {
   "cell_type": "code",
   "execution_count": 20,
   "metadata": {},
   "outputs": [],
   "source": [
    "cityList = create_cityList(30)"
   ]
  },
  {
   "cell_type": "code",
   "execution_count": 21,
   "metadata": {
    "scrolled": false
   },
   "outputs": [
    {
     "name": "stdout",
     "output_type": "stream",
     "text": [
      "Currently at cycle number 0\n",
      "-------------------------------\n",
      "New best route found by TAAgent, with distance 5414.097856701884\n",
      "-------------------------------\n",
      "-------------------------------\n",
      "New best route found by RSAgent, with distance 4880.521982290669\n",
      "-------------------------------\n",
      "Currently at cycle number 1\n",
      "Currently at cycle number 2\n",
      "No more best route found\n"
     ]
    }
   ],
   "source": [
    "test_CoopA(cityList, intensity=2)"
   ]
  },
  {
   "cell_type": "code",
   "execution_count": 44,
   "metadata": {},
   "outputs": [],
   "source": [
    "def time_AG():\n",
    "    taille_ville = [5, 10, 25, 50, 75, 100, 300]\n",
    "    times = []\n",
    "    for taille in taille_ville:\n",
    "        cityList = create_cityList(taille)\n",
    "        start = time.time()\n",
    "        E = test_GAA(cityList)\n",
    "        end = time.time()\n",
    "        print(E)\n",
    "        times.append(end-start)\n",
    "        print(f'{taille} a pris {end-start}s')\n",
    "    return times"
   ]
  },
  {
   "cell_type": "code",
   "execution_count": 45,
   "metadata": {
    "scrolled": false
   },
   "outputs": [
    {
     "name": "stdout",
     "output_type": "stream",
     "text": [
      "1977.6826052673102\n",
      "1977.6826052673102\n",
      "5 a pris 38.948495388031006s\n",
      "2643.2651652083136\n",
      "2643.2651652083136\n",
      "10 a pris 37.84554982185364s\n",
      "3872.0146659134757\n",
      "3872.0146659134757\n",
      "25 a pris 40.8398814201355s\n",
      "13035.4613570789\n",
      "13035.4613570789\n",
      "50 a pris 49.999741077423096s\n",
      "24142.961017186342\n",
      "24142.961017186342\n",
      "75 a pris 57.66526937484741s\n",
      "36462.72210885223\n",
      "36462.72210885223\n",
      "100 a pris 65.35279250144958s\n",
      "130311.55248836077\n",
      "130311.55248836077\n",
      "300 a pris 131.44264912605286s\n"
     ]
    }
   ],
   "source": [
    "times_AG = time_AG()"
   ]
  },
  {
   "cell_type": "code",
   "execution_count": 55,
   "metadata": {},
   "outputs": [],
   "source": [
    "def time_RS():\n",
    "    taille_ville = [5, 10, 25, 50, 75, 100, 300]\n",
    "    times = []\n",
    "    for taille in taille_ville:\n",
    "        cityList = create_cityList(taille)\n",
    "        start = time.time()\n",
    "        E = test_RSA(cityList)\n",
    "        end = time.time()\n",
    "        print(E)\n",
    "        times.append(end-start)\n",
    "        print(f'{taille} a pris {end-start}s')\n",
    "    return times"
   ]
  },
  {
   "cell_type": "code",
   "execution_count": 56,
   "metadata": {},
   "outputs": [
    {
     "name": "stdout",
     "output_type": "stream",
     "text": [
      "1977.6826052673105\n",
      "1977.6826052673105\n",
      "5 a pris 0.1757962703704834s\n",
      "2719.0596258101014\n",
      "2719.0596258101014\n",
      "10 a pris 0.2945592403411865s\n",
      "4030.9681467847154\n",
      "4030.9681467847154\n",
      "25 a pris 0.6301424503326416s\n",
      "8540.18486798297\n",
      "8540.18486798297\n",
      "50 a pris 1.1945033073425293s\n",
      "12012.291100069648\n",
      "12012.291100069648\n",
      "75 a pris 1.7892112731933594s\n",
      "16031.595257446745\n",
      "16031.595257446745\n",
      "100 a pris 2.366360902786255s\n",
      "56474.13973201569\n",
      "56474.13973201569\n",
      "300 a pris 7.1774256229400635s\n"
     ]
    }
   ],
   "source": [
    "times_RS = time_RS()"
   ]
  },
  {
   "cell_type": "code",
   "execution_count": 82,
   "metadata": {},
   "outputs": [],
   "source": [
    "def time_Tabou():\n",
    "    taille_ville = [5, 10, 25, 50, 75, 100, 300]\n",
    "    times = []\n",
    "    for taille in taille_ville:\n",
    "        cityList = create_cityList(taille)\n",
    "        start = time.time()\n",
    "        E = test_TAA(cityList)\n",
    "        end = time.time()\n",
    "        print(E)\n",
    "        times.append(end-start)\n",
    "        print(f'{taille} a pris {end-start}s')\n",
    "    return times\n",
    "        "
   ]
  },
  {
   "cell_type": "code",
   "execution_count": null,
   "metadata": {
    "scrolled": false
   },
   "outputs": [
    {
     "name": "stdout",
     "output_type": "stream",
     "text": [
      "1977.6826052673102\n",
      "1977.6826052673102\n",
      "5 a pris 0.0030562877655029297s\n",
      "2643.2651652083146\n",
      "2643.2651652083146\n",
      "10 a pris 0.043688058853149414s\n",
      "4642.269409099277\n",
      "4642.269409099277\n",
      "25 a pris 0.840411901473999s\n",
      "8331.110794137547\n",
      "8331.110794137547\n",
      "50 a pris 7.217057466506958s\n",
      "14012.97820255808\n",
      "14012.97820255808\n",
      "75 a pris 24.48953366279602s\n",
      "18337.465545764317\n",
      "18337.465545764317\n",
      "100 a pris 58.762179136276245s\n"
     ]
    }
   ],
   "source": [
    "times_Tabou = time_Tabou()"
   ]
  },
  {
   "cell_type": "code",
   "execution_count": 46,
   "metadata": {},
   "outputs": [],
   "source": [
    "def time_coop():\n",
    "    taille_ville = [5, 10, 25, 50, 75, 100, 300]\n",
    "    times = []\n",
    "    for taille in taille_ville:\n",
    "        cityList = create_cityList(taille)\n",
    "        start = time.time()\n",
    "        test_CoopA(cityList, intensity = max(2,taille//60))\n",
    "        end = time.time()\n",
    "        times.append(end-start)\n",
    "        print(f'{taille} a pris {end-start}s')\n",
    "    return times\n",
    "        "
   ]
  },
  {
   "cell_type": "code",
   "execution_count": 47,
   "metadata": {
    "scrolled": false
   },
   "outputs": [
    {
     "name": "stdout",
     "output_type": "stream",
     "text": [
      "Currently at cycle number 0\n",
      "-------------------------------\n",
      "New best route found by TAAgent, with distance 1977.6826052673102\n",
      "-------------------------------\n",
      "Currently at cycle number 1\n",
      "Currently at cycle number 2\n",
      "No more best route found\n",
      "5 a pris 0.2968888282775879s\n",
      "Currently at cycle number 0\n",
      "-------------------------------\n",
      "New best route found by TAAgent, with distance 2643.2651652083146\n",
      "-------------------------------\n",
      "-------------------------------\n",
      "New best route found by RSAgent, with distance 2643.265165208314\n",
      "-------------------------------\n",
      "Currently at cycle number 1\n",
      "Currently at cycle number 2\n",
      "No more best route found\n",
      "10 a pris 0.3560972213745117s\n",
      "Currently at cycle number 0\n",
      "-------------------------------\n",
      "New best route found by TAAgent, with distance 4642.269409099277\n",
      "-------------------------------\n",
      "Currently at cycle number 1\n",
      "Currently at cycle number 2\n",
      "No more best route found\n",
      "25 a pris 2.007897138595581s\n",
      "Currently at cycle number 0\n",
      "-------------------------------\n",
      "New best route found by TAAgent, with distance 8523.899266586974\n",
      "-------------------------------\n",
      "Currently at cycle number 1\n",
      "Currently at cycle number 2\n",
      "No more best route found\n",
      "50 a pris 12.524741411209106s\n",
      "Currently at cycle number 0\n",
      "-------------------------------\n",
      "New best route found by TAAgent, with distance 14775.244985242462\n",
      "-------------------------------\n",
      "Currently at cycle number 1\n",
      "Currently at cycle number 2\n",
      "No more best route found\n",
      "75 a pris 41.057693004608154s\n",
      "Currently at cycle number 0\n",
      "-------------------------------\n",
      "New best route found by TAAgent, with distance 19819.274375978017\n",
      "-------------------------------\n",
      "Currently at cycle number 1\n",
      "Currently at cycle number 2\n",
      "No more best route found\n",
      "100 a pris 95.62084603309631s\n",
      "Currently at cycle number 0\n"
     ]
    },
    {
     "ename": "KeyboardInterrupt",
     "evalue": "",
     "output_type": "error",
     "traceback": [
      "\u001b[0;31m---------------------------------------------------------------------------\u001b[0m",
      "\u001b[0;31mKeyboardInterrupt\u001b[0m                         Traceback (most recent call last)",
      "\u001b[0;32m<ipython-input-47-dd6b2eaa6546>\u001b[0m in \u001b[0;36m<module>\u001b[0;34m\u001b[0m\n\u001b[0;32m----> 1\u001b[0;31m \u001b[0mtimes_coop\u001b[0m \u001b[0;34m=\u001b[0m \u001b[0mtime_coop\u001b[0m\u001b[0;34m(\u001b[0m\u001b[0;34m)\u001b[0m\u001b[0;34m\u001b[0m\u001b[0;34m\u001b[0m\u001b[0m\n\u001b[0m",
      "\u001b[0;32m<ipython-input-46-d4f76a40ee91>\u001b[0m in \u001b[0;36mtime_coop\u001b[0;34m()\u001b[0m\n\u001b[1;32m      5\u001b[0m         \u001b[0mcityList\u001b[0m \u001b[0;34m=\u001b[0m \u001b[0mcreate_cityList\u001b[0m\u001b[0;34m(\u001b[0m\u001b[0mtaille\u001b[0m\u001b[0;34m)\u001b[0m\u001b[0;34m\u001b[0m\u001b[0;34m\u001b[0m\u001b[0m\n\u001b[1;32m      6\u001b[0m         \u001b[0mstart\u001b[0m \u001b[0;34m=\u001b[0m \u001b[0mtime\u001b[0m\u001b[0;34m.\u001b[0m\u001b[0mtime\u001b[0m\u001b[0;34m(\u001b[0m\u001b[0;34m)\u001b[0m\u001b[0;34m\u001b[0m\u001b[0;34m\u001b[0m\u001b[0m\n\u001b[0;32m----> 7\u001b[0;31m         \u001b[0mtest_CoopA\u001b[0m\u001b[0;34m(\u001b[0m\u001b[0mcityList\u001b[0m\u001b[0;34m,\u001b[0m \u001b[0mintensity\u001b[0m \u001b[0;34m=\u001b[0m \u001b[0mmax\u001b[0m\u001b[0;34m(\u001b[0m\u001b[0;36m2\u001b[0m\u001b[0;34m,\u001b[0m\u001b[0mtaille\u001b[0m\u001b[0;34m//\u001b[0m\u001b[0;36m60\u001b[0m\u001b[0;34m)\u001b[0m\u001b[0;34m)\u001b[0m\u001b[0;34m\u001b[0m\u001b[0;34m\u001b[0m\u001b[0m\n\u001b[0m\u001b[1;32m      8\u001b[0m         \u001b[0mend\u001b[0m \u001b[0;34m=\u001b[0m \u001b[0mtime\u001b[0m\u001b[0;34m.\u001b[0m\u001b[0mtime\u001b[0m\u001b[0;34m(\u001b[0m\u001b[0;34m)\u001b[0m\u001b[0;34m\u001b[0m\u001b[0;34m\u001b[0m\u001b[0m\n\u001b[1;32m      9\u001b[0m         \u001b[0mtimes\u001b[0m\u001b[0;34m.\u001b[0m\u001b[0mappend\u001b[0m\u001b[0;34m(\u001b[0m\u001b[0mend\u001b[0m\u001b[0;34m-\u001b[0m\u001b[0mstart\u001b[0m\u001b[0;34m)\u001b[0m\u001b[0;34m\u001b[0m\u001b[0;34m\u001b[0m\u001b[0m\n",
      "\u001b[0;32m<ipython-input-19-6360d8af1c20>\u001b[0m in \u001b[0;36mtest_CoopA\u001b[0;34m(cityList, intensity)\u001b[0m\n\u001b[1;32m      9\u001b[0m     \u001b[0mCoopA\u001b[0m \u001b[0;34m=\u001b[0m \u001b[0mCoopAgent\u001b[0m\u001b[0;34m(\u001b[0m\u001b[0magents\u001b[0m\u001b[0;34m,\u001b[0m \u001b[0;36m30\u001b[0m\u001b[0;34m)\u001b[0m\u001b[0;34m\u001b[0m\u001b[0;34m\u001b[0m\u001b[0m\n\u001b[1;32m     10\u001b[0m \u001b[0;34m\u001b[0m\u001b[0m\n\u001b[0;32m---> 11\u001b[0;31m     \u001b[0mCoopA\u001b[0m\u001b[0;34m.\u001b[0m\u001b[0mcycle\u001b[0m\u001b[0;34m(\u001b[0m\u001b[0mprint_cycles\u001b[0m\u001b[0;34m=\u001b[0m\u001b[0;32mTrue\u001b[0m\u001b[0;34m)\u001b[0m\u001b[0;34m\u001b[0m\u001b[0;34m\u001b[0m\u001b[0m\n\u001b[0m",
      "\u001b[0;32m<ipython-input-18-46ebbb7f7d2a>\u001b[0m in \u001b[0;36mcycle\u001b[0;34m(self, print_cycles)\u001b[0m\n\u001b[1;32m     22\u001b[0m \u001b[0;34m\u001b[0m\u001b[0m\n\u001b[1;32m     23\u001b[0m                 \u001b[0mstart\u001b[0m \u001b[0;34m=\u001b[0m \u001b[0mtime\u001b[0m\u001b[0;34m.\u001b[0m\u001b[0mtime\u001b[0m\u001b[0;34m(\u001b[0m\u001b[0;34m)\u001b[0m\u001b[0;34m\u001b[0m\u001b[0;34m\u001b[0m\u001b[0m\n\u001b[0;32m---> 24\u001b[0;31m                 \u001b[0mstatus\u001b[0m\u001b[0;34m,\u001b[0m \u001b[0mroute\u001b[0m\u001b[0;34m,\u001b[0m \u001b[0mdistance\u001b[0m \u001b[0;34m=\u001b[0m \u001b[0magent\u001b[0m\u001b[0;34m.\u001b[0m\u001b[0mupdate\u001b[0m\u001b[0;34m(\u001b[0m\u001b[0mself\u001b[0m\u001b[0;34m.\u001b[0m\u001b[0mbestRoute\u001b[0m\u001b[0;34m,\u001b[0m \u001b[0mself\u001b[0m\u001b[0;34m.\u001b[0m\u001b[0mbestRouteDistance\u001b[0m\u001b[0;34m)\u001b[0m\u001b[0;34m\u001b[0m\u001b[0;34m\u001b[0m\u001b[0m\n\u001b[0m\u001b[1;32m     25\u001b[0m                 \u001b[0mend\u001b[0m \u001b[0;34m=\u001b[0m \u001b[0mtime\u001b[0m\u001b[0;34m.\u001b[0m\u001b[0mtime\u001b[0m\u001b[0;34m(\u001b[0m\u001b[0;34m)\u001b[0m\u001b[0;34m\u001b[0m\u001b[0;34m\u001b[0m\u001b[0m\n\u001b[1;32m     26\u001b[0m \u001b[0;31m#                 print(f'Time taken by agent {agent} is: {end-start}')\u001b[0m\u001b[0;34m\u001b[0m\u001b[0;34m\u001b[0m\u001b[0;34m\u001b[0m\u001b[0m\n",
      "\u001b[0;32m<ipython-input-5-4b6ce5a4abbc>\u001b[0m in \u001b[0;36mupdate\u001b[0;34m(self, best_other_route, best_other_routeDistance)\u001b[0m\n\u001b[1;32m     37\u001b[0m \u001b[0;34m\u001b[0m\u001b[0m\n\u001b[1;32m     38\u001b[0m         \u001b[0;32mif\u001b[0m \u001b[0mself\u001b[0m\u001b[0;34m.\u001b[0m\u001b[0mstatus\u001b[0m \u001b[0;34m==\u001b[0m \u001b[0;34m\"IDLE\"\u001b[0m\u001b[0;34m:\u001b[0m\u001b[0;34m\u001b[0m\u001b[0;34m\u001b[0m\u001b[0m\n\u001b[0;32m---> 39\u001b[0;31m             \u001b[0mself\u001b[0m\u001b[0;34m.\u001b[0m\u001b[0mroute\u001b[0m\u001b[0;34m,\u001b[0m \u001b[0mself\u001b[0m\u001b[0;34m.\u001b[0m\u001b[0mrouteDistance\u001b[0m \u001b[0;34m=\u001b[0m \u001b[0mself\u001b[0m\u001b[0;34m.\u001b[0m\u001b[0msearch\u001b[0m\u001b[0;34m(\u001b[0m\u001b[0;34m)\u001b[0m\u001b[0;34m\u001b[0m\u001b[0;34m\u001b[0m\u001b[0m\n\u001b[0m\u001b[1;32m     40\u001b[0m \u001b[0;31m#             print(f'{self} is at distance {self.routeDistance}')\u001b[0m\u001b[0;34m\u001b[0m\u001b[0;34m\u001b[0m\u001b[0;34m\u001b[0m\u001b[0m\n\u001b[1;32m     41\u001b[0m             \u001b[0;32mif\u001b[0m \u001b[0mbest_other_route\u001b[0m \u001b[0;32mis\u001b[0m \u001b[0;32mnot\u001b[0m \u001b[0;32mNone\u001b[0m\u001b[0;34m:\u001b[0m\u001b[0;34m\u001b[0m\u001b[0;34m\u001b[0m\u001b[0m\n",
      "\u001b[0;32m<ipython-input-15-456dc03f01b7>\u001b[0m in \u001b[0;36msearch\u001b[0;34m(self)\u001b[0m\n\u001b[1;32m     52\u001b[0m         \u001b[0mroute\u001b[0m \u001b[0;34m=\u001b[0m \u001b[0mself\u001b[0m\u001b[0;34m.\u001b[0m\u001b[0mroute_init\u001b[0m\u001b[0;34m\u001b[0m\u001b[0;34m\u001b[0m\u001b[0m\n\u001b[1;32m     53\u001b[0m         \u001b[0;32mfor\u001b[0m \u001b[0mk\u001b[0m \u001b[0;32min\u001b[0m \u001b[0mrange\u001b[0m \u001b[0;34m(\u001b[0m\u001b[0mself\u001b[0m\u001b[0;34m.\u001b[0m\u001b[0mgenerations\u001b[0m\u001b[0;34m)\u001b[0m \u001b[0;34m:\u001b[0m\u001b[0;34m\u001b[0m\u001b[0;34m\u001b[0m\u001b[0m\n\u001b[0;32m---> 54\u001b[0;31m             \u001b[0mroute\u001b[0m\u001b[0;34m=\u001b[0m \u001b[0mself\u001b[0m\u001b[0;34m.\u001b[0m\u001b[0m_step\u001b[0m\u001b[0;34m(\u001b[0m\u001b[0mroute\u001b[0m\u001b[0;34m)\u001b[0m \u001b[0;31m#on repart du dernier \"meilleur voisin\" considéré\u001b[0m\u001b[0;34m\u001b[0m\u001b[0;34m\u001b[0m\u001b[0m\n\u001b[0m\u001b[1;32m     55\u001b[0m \u001b[0;34m\u001b[0m\u001b[0m\n\u001b[1;32m     56\u001b[0m         \u001b[0;32mreturn\u001b[0m \u001b[0mself\u001b[0m\u001b[0;34m.\u001b[0m\u001b[0mmeilleure_route_globale\u001b[0m\u001b[0;34m,\u001b[0m \u001b[0mFitness\u001b[0m\u001b[0;34m(\u001b[0m\u001b[0mself\u001b[0m\u001b[0;34m.\u001b[0m\u001b[0mmeilleure_route_globale\u001b[0m\u001b[0;34m)\u001b[0m\u001b[0;34m.\u001b[0m\u001b[0mrouteDistance\u001b[0m\u001b[0;34m(\u001b[0m\u001b[0;34m)\u001b[0m\u001b[0;34m\u001b[0m\u001b[0;34m\u001b[0m\u001b[0m\n",
      "\u001b[0;32m<ipython-input-15-456dc03f01b7>\u001b[0m in \u001b[0;36m_step\u001b[0;34m(self, route)\u001b[0m\n\u001b[1;32m     30\u001b[0m                 \u001b[0;32mif\u001b[0m \u001b[0;34m(\u001b[0m\u001b[0mi\u001b[0m\u001b[0;34m,\u001b[0m\u001b[0mj\u001b[0m\u001b[0;34m)\u001b[0m \u001b[0;32mnot\u001b[0m \u001b[0;32min\u001b[0m \u001b[0mself\u001b[0m\u001b[0;34m.\u001b[0m\u001b[0mtabou\u001b[0m \u001b[0;34m:\u001b[0m\u001b[0;34m\u001b[0m\u001b[0;34m\u001b[0m\u001b[0m\n\u001b[1;32m     31\u001b[0m                     \u001b[0mnew_route\u001b[0m \u001b[0;34m=\u001b[0m \u001b[0mself\u001b[0m\u001b[0;34m.\u001b[0m\u001b[0mpermutation\u001b[0m\u001b[0;34m(\u001b[0m\u001b[0mroute\u001b[0m\u001b[0;34m,\u001b[0m \u001b[0mi\u001b[0m\u001b[0;34m,\u001b[0m\u001b[0mj\u001b[0m\u001b[0;34m)\u001b[0m\u001b[0;34m\u001b[0m\u001b[0;34m\u001b[0m\u001b[0m\n\u001b[0;32m---> 32\u001b[0;31m                     \u001b[0mp\u001b[0m \u001b[0;34m=\u001b[0m \u001b[0mself\u001b[0m\u001b[0;34m.\u001b[0m\u001b[0mpoids\u001b[0m \u001b[0;34m(\u001b[0m\u001b[0mnew_route\u001b[0m\u001b[0;34m)\u001b[0m\u001b[0;34m\u001b[0m\u001b[0;34m\u001b[0m\u001b[0m\n\u001b[0m\u001b[1;32m     33\u001b[0m                     \u001b[0;32mif\u001b[0m \u001b[0mp\u001b[0m \u001b[0;34m>=\u001b[0m \u001b[0mmeilleur_poids_t\u001b[0m \u001b[0;34m:\u001b[0m\u001b[0;34m\u001b[0m\u001b[0;34m\u001b[0m\u001b[0m\n\u001b[1;32m     34\u001b[0m                         \u001b[0mmeilleur_poids_t\u001b[0m \u001b[0;34m=\u001b[0m \u001b[0mp\u001b[0m\u001b[0;34m\u001b[0m\u001b[0;34m\u001b[0m\u001b[0m\n",
      "\u001b[0;32m<ipython-input-15-456dc03f01b7>\u001b[0m in \u001b[0;36mpoids\u001b[0;34m(self, route)\u001b[0m\n\u001b[1;32m      8\u001b[0m \u001b[0;34m\u001b[0m\u001b[0m\n\u001b[1;32m      9\u001b[0m     \u001b[0;32mdef\u001b[0m \u001b[0mpoids\u001b[0m \u001b[0;34m(\u001b[0m\u001b[0mself\u001b[0m\u001b[0;34m,\u001b[0m\u001b[0mroute\u001b[0m\u001b[0;34m)\u001b[0m\u001b[0;34m:\u001b[0m\u001b[0;34m\u001b[0m\u001b[0;34m\u001b[0m\u001b[0m\n\u001b[0;32m---> 10\u001b[0;31m         \u001b[0;32mreturn\u001b[0m \u001b[0mFitness\u001b[0m\u001b[0;34m(\u001b[0m\u001b[0mroute\u001b[0m\u001b[0;34m)\u001b[0m\u001b[0;34m.\u001b[0m\u001b[0mrouteFitness\u001b[0m\u001b[0;34m(\u001b[0m\u001b[0;34m)\u001b[0m \u001b[0;31m#on cherche à maximiser le fitness qui est supérieur entre 0 (chemin\u001b[0m\u001b[0;34m\u001b[0m\u001b[0;34m\u001b[0m\u001b[0m\n\u001b[0m\u001b[1;32m     11\u001b[0m     \u001b[0;31m#de longueur infinie). C'est notre fonction coût\u001b[0m\u001b[0;34m\u001b[0m\u001b[0;34m\u001b[0m\u001b[0;34m\u001b[0m\u001b[0m\n\u001b[1;32m     12\u001b[0m \u001b[0;34m\u001b[0m\u001b[0m\n",
      "\u001b[0;32m<ipython-input-4-de4f6a5616ac>\u001b[0m in \u001b[0;36mrouteFitness\u001b[0;34m(self)\u001b[0m\n\u001b[1;32m     21\u001b[0m     \u001b[0;32mdef\u001b[0m \u001b[0mrouteFitness\u001b[0m\u001b[0;34m(\u001b[0m\u001b[0mself\u001b[0m\u001b[0;34m)\u001b[0m\u001b[0;34m:\u001b[0m\u001b[0;34m\u001b[0m\u001b[0;34m\u001b[0m\u001b[0m\n\u001b[1;32m     22\u001b[0m         \u001b[0;32mif\u001b[0m \u001b[0mself\u001b[0m\u001b[0;34m.\u001b[0m\u001b[0mfitness\u001b[0m \u001b[0;34m==\u001b[0m \u001b[0;36m0\u001b[0m\u001b[0;34m:\u001b[0m\u001b[0;34m\u001b[0m\u001b[0;34m\u001b[0m\u001b[0m\n\u001b[0;32m---> 23\u001b[0;31m             \u001b[0mself\u001b[0m\u001b[0;34m.\u001b[0m\u001b[0mfitness\u001b[0m \u001b[0;34m=\u001b[0m \u001b[0;36m1\u001b[0m \u001b[0;34m/\u001b[0m \u001b[0mfloat\u001b[0m\u001b[0;34m(\u001b[0m\u001b[0mself\u001b[0m\u001b[0;34m.\u001b[0m\u001b[0mrouteDistance\u001b[0m\u001b[0;34m(\u001b[0m\u001b[0;34m)\u001b[0m\u001b[0;34m)\u001b[0m\u001b[0;34m\u001b[0m\u001b[0;34m\u001b[0m\u001b[0m\n\u001b[0m\u001b[1;32m     24\u001b[0m         \u001b[0;32mreturn\u001b[0m \u001b[0mself\u001b[0m\u001b[0;34m.\u001b[0m\u001b[0mfitness\u001b[0m\u001b[0;34m\u001b[0m\u001b[0;34m\u001b[0m\u001b[0m\n\u001b[1;32m     25\u001b[0m \u001b[0;34m\u001b[0m\u001b[0m\n",
      "\u001b[0;32m<ipython-input-4-de4f6a5616ac>\u001b[0m in \u001b[0;36mrouteDistance\u001b[0;34m(self)\u001b[0m\n\u001b[1;32m     15\u001b[0m                 \u001b[0;32melse\u001b[0m\u001b[0;34m:\u001b[0m\u001b[0;34m\u001b[0m\u001b[0;34m\u001b[0m\u001b[0m\n\u001b[1;32m     16\u001b[0m                     \u001b[0mtoCity\u001b[0m \u001b[0;34m=\u001b[0m \u001b[0mself\u001b[0m\u001b[0;34m.\u001b[0m\u001b[0mroute\u001b[0m\u001b[0;34m[\u001b[0m\u001b[0;36m0\u001b[0m\u001b[0;34m]\u001b[0m\u001b[0;34m\u001b[0m\u001b[0;34m\u001b[0m\u001b[0m\n\u001b[0;32m---> 17\u001b[0;31m                 \u001b[0mpathDistance\u001b[0m \u001b[0;34m+=\u001b[0m \u001b[0mfromCity\u001b[0m\u001b[0;34m.\u001b[0m\u001b[0mdistance\u001b[0m\u001b[0;34m(\u001b[0m\u001b[0mtoCity\u001b[0m\u001b[0;34m)\u001b[0m\u001b[0;34m\u001b[0m\u001b[0;34m\u001b[0m\u001b[0m\n\u001b[0m\u001b[1;32m     18\u001b[0m             \u001b[0mself\u001b[0m\u001b[0;34m.\u001b[0m\u001b[0mdistance\u001b[0m \u001b[0;34m=\u001b[0m \u001b[0mpathDistance\u001b[0m\u001b[0;34m\u001b[0m\u001b[0;34m\u001b[0m\u001b[0m\n\u001b[1;32m     19\u001b[0m         \u001b[0;32mreturn\u001b[0m \u001b[0mself\u001b[0m\u001b[0;34m.\u001b[0m\u001b[0mdistance\u001b[0m\u001b[0;34m\u001b[0m\u001b[0;34m\u001b[0m\u001b[0m\n",
      "\u001b[0;31mKeyboardInterrupt\u001b[0m: "
     ]
    }
   ],
   "source": [
    "times_coop = time_coop()"
   ]
  },
  {
   "cell_type": "code",
   "execution_count": 60,
   "metadata": {},
   "outputs": [],
   "source": [
    "taille_ville = [5, 10, 25, 50, 75, 100, 300]"
   ]
  },
  {
   "cell_type": "code",
   "execution_count": 70,
   "metadata": {},
   "outputs": [
    {
     "data": {
      "text/plain": [
       "Text(0.5, 1.0, 'Algorithme génétique')"
      ]
     },
     "execution_count": 70,
     "metadata": {},
     "output_type": "execute_result"
    },
    {
     "data": {
      "image/png": "[encoded data removed]",
      "text/plain": [
       "<Figure size 432x288 with 1 Axes>"
      ]
     },
     "metadata": {
      "needs_background": "light"
     },
     "output_type": "display_data"
    }
   ],
   "source": [
    "plt.plot(taille_ville, times_AG)\n",
    "plt.xlabel(\"Nombre de villes\")\n",
    "plt.ylabel(\"Temps (s)\")\n",
    "plt.title(\"Algorithme génétique\")"
   ]
  },
  {
   "cell_type": "code",
   "execution_count": 71,
   "metadata": {},
   "outputs": [
    {
     "data": {
      "text/plain": [
       "Text(0.5, 1.0, 'Recuit simulé')"
      ]
     },
     "execution_count": 71,
     "metadata": {},
     "output_type": "execute_result"
    },
    {
     "data": {
      "image/png": "[encoded data removed]",
      "text/plain": [
       "<Figure size 432x288 with 1 Axes>"
      ]
     },
     "metadata": {
      "needs_background": "light"
     },
     "output_type": "display_data"
    }
   ],
   "source": [
    "plt.plot(taille_ville, times_RS)\n",
    "plt.xlabel(\"Nombre de villes\")\n",
    "plt.ylabel(\"Temps (s)\")\n",
    "plt.title(\"Recuit simulé\")"
   ]
  },
  {
   "cell_type": "code",
   "execution_count": 72,
   "metadata": {},
   "outputs": [
    {
     "data": {
      "text/plain": [
       "Text(0.5, 1.0, 'Tabou')"
      ]
     },
     "execution_count": 72,
     "metadata": {},
     "output_type": "execute_result"
    },
    {
     "data": {
      "image/png": "[encoded data removed]",
      "text/plain": [
       "<Figure size 432x288 with 1 Axes>"
      ]
     },
     "metadata": {
      "needs_background": "light"
     },
     "output_type": "display_data"
    }
   ],
   "source": [
    "plt.plot(taille_ville, times_Tabou)\n",
    "plt.xlabel(\"Nombre de villes\")\n",
    "plt.ylabel(\"Temps (s)\")\n",
    "plt.title(\"Tabou\")"
   ]
  },
  {
   "cell_type": "code",
   "execution_count": 73,
   "metadata": {},
   "outputs": [
    {
     "data": {
      "text/plain": [
       "[38.948495388031006,\n",
       " 37.84554982185364,\n",
       " 40.8398814201355,\n",
       " 49.999741077423096,\n",
       " 57.66526937484741,\n",
       " 65.35279250144958,\n",
       " 131.44264912605286]"
      ]
     },
     "execution_count": 73,
     "metadata": {},
     "output_type": "execute_result"
    }
   ],
   "source": [
    "times_AG"
   ]
  },
  {
   "cell_type": "code",
   "execution_count": 74,
   "metadata": {},
   "outputs": [],
   "source": [
    "times_coop = [0.2968888282775879, 0.3560972213745117,  2.007897138595581, 12.524741411209106, 41.057693004608154,  95.62084603309631 ]"
   ]
  },
  {
   "cell_type": "code",
   "execution_count": 75,
   "metadata": {},
   "outputs": [
    {
     "data": {
      "text/plain": [
       "Text(0.5, 1.0, 'Coopération')"
      ]
     },
     "execution_count": 75,
     "metadata": {},
     "output_type": "execute_result"
    },
    {
     "data": {
      "image/png": "[encoded data removed]",
      "text/plain": [
       "<Figure size 432x288 with 1 Axes>"
      ]
     },
     "metadata": {
      "needs_background": "light"
     },
     "output_type": "display_data"
    }
   ],
   "source": [
    "plt.plot(taille_ville[:-1], times_coop)\n",
    "plt.xlabel(\"Nombre de villes\")\n",
    "plt.ylabel(\"Temps (s)\")\n",
    "plt.title(\"Coopération\")"
   ]
  },
  {
   "cell_type": "code",
   "execution_count": 80,
   "metadata": {},
   "outputs": [
    {
     "data": {
      "text/plain": [
       "Text(0.5, 1.0, 'Tabou')"
      ]
     },
     "execution_count": 80,
     "metadata": {},
     "output_type": "execute_result"
    },
    {
     "data": {
      "image/png": "[encoded data removed]",
      "text/plain": [
       "<Figure size 432x288 with 1 Axes>"
      ]
     },
     "metadata": {
      "needs_background": "light"
     },
     "output_type": "display_data"
    }
   ],
   "source": [
    "plt.plot(taille_ville, times_Tabou, label='Tabou')\n",
    "plt.plot(taille_ville[:-1], times_coop, label='coop')\n",
    "plt.plot(taille_ville, times_AG, label='AG')\n",
    "plt.legend()\n",
    "plt.xlabel(\"Nombre de villes\")\n",
    "plt.ylabel(\"Temps (s)\")\n",
    "plt.title(\"Tabou\")"
   ]
  },
  {
   "cell_type": "code",
   "execution_count": null,
   "metadata": {},
   "outputs": [],
   "source": []
  }
 ],
 "metadata": {
  "kernelspec": {
   "display_name": "Python 3",
   "language": "python",
   "name": "python3"
  },
  "language_info": {
   "codemirror_mode": {
    "name": "ipython",
    "version": 3
   },
   "file_extension": ".py",
   "mimetype": "text/x-python",
   "name": "python",
   "nbconvert_exporter": "python",
   "pygments_lexer": "ipython3",
   "version": "3.7.1"
  },
  "toc": {
   "base_numbering": 1,
   "nav_menu": {},
   "number_sections": true,
   "sideBar": true,
   "skip_h1_title": false,
   "title_cell": "Table of Contents",
   "title_sidebar": "Contents",
   "toc_cell": false,
   "toc_position": {
    "height": "calc(100% - 180px)",
    "left": "10px",
    "top": "150px",
    "width": "165px"
   },
   "toc_section_display": true,
   "toc_window_display": true
  }
 },
 "nbformat": 4,
 "nbformat_minor": 2
}
